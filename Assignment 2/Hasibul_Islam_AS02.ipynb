{
 "cells": [
  {
   "cell_type": "code",
   "execution_count": 1,
   "metadata": {},
   "outputs": [],
   "source": [
    "# CSC-301\n",
    "# Due: 9am - 09/25/2018\n",
    "# Hasibul Islam"
   ]
  },
  {
   "cell_type": "code",
   "execution_count": 2,
   "metadata": {},
   "outputs": [
    {
     "name": "stdout",
     "output_type": "stream",
     "text": [
      "5859874.4820529185\n",
      "0.5108051300048828\n"
     ]
    }
   ],
   "source": [
    "# Naive Summation Algorithm for 10^6\n",
    "import math;\n",
    "import time;\n",
    "\n",
    "sum_pi = 0;\n",
    "sum_e = 0;\n",
    "\n",
    "start_time = time.time()\n",
    "for i in range(10**6): \n",
    "    sum_pi += math.pi\n",
    "for i in range(10**6): \n",
    "    sum_e += math.e\n",
    "sumNumber = sum_pi + sum_e\n",
    "\n",
    "end_time = time.time()\n",
    "print(sumNumber)\n",
    "elapsed_time = end_time - start_time \n",
    "print(elapsed_time)"
   ]
  },
  {
   "cell_type": "code",
   "execution_count": 3,
   "metadata": {},
   "outputs": [
    {
     "name": "stdout",
     "output_type": "stream",
     "text": [
      "58598744.824439615\n",
      "6.10732102394104\n"
     ]
    }
   ],
   "source": [
    "# Naive Summation Algorithm for 10^7\n",
    "import math;\n",
    "import time;\n",
    "\n",
    "sum_pi = 0;\n",
    "sum_e = 0;\n",
    "\n",
    "start_time = time.time()\n",
    "for i in range(10**7): \n",
    "    sum_pi += math.pi\n",
    "for i in range(10**7): \n",
    "    sum_e += math.e\n",
    "sumNumber = sum_pi + sum_e\n",
    "\n",
    "end_time = time.time()\n",
    "print(sumNumber)\n",
    "elapsed_time = end_time - start_time \n",
    "print(elapsed_time)"
   ]
  },
  {
   "cell_type": "code",
   "execution_count": 4,
   "metadata": {},
   "outputs": [
    {
     "name": "stdout",
     "output_type": "stream",
     "text": [
      "585987448.9371876\n",
      "41.90898394584656\n"
     ]
    }
   ],
   "source": [
    "# Naive Summation Algorithm for 10^8\n",
    "import math;\n",
    "import time;\n",
    "\n",
    "sum_pi = 0;\n",
    "sum_e = 0;\n",
    "\n",
    "start_time = time.time()\n",
    "for i in range(10**8): \n",
    "    sum_pi += math.pi\n",
    "for i in range(10**8): \n",
    "    sum_e += math.e\n",
    "sumNumber = sum_pi + sum_e\n",
    "\n",
    "end_time = time.time()\n",
    "print(sumNumber)\n",
    "elapsed_time = end_time - start_time \n",
    "print(elapsed_time)"
   ]
  },
  {
   "cell_type": "code",
   "execution_count": 5,
   "metadata": {},
   "outputs": [
    {
     "name": "stdout",
     "output_type": "stream",
     "text": [
      "5859874416.4828415\n",
      "350.8592083454132\n"
     ]
    }
   ],
   "source": [
    "# Naive Summation Algorithm for 10^9\n",
    "#Taking Longer\n",
    "import math;\n",
    "import time;\n",
    "\n",
    "sum_pi = 0;\n",
    "sum_e = 0;\n",
    "\n",
    "start_time = time.time()\n",
    "for i in range(10**9): \n",
    "    sum_pi += math.pi\n",
    "for i in range(10**9): \n",
    "    sum_e += math.e\n",
    "sumNumber = sum_pi + sum_e\n",
    "\n",
    "end_time = time.time()\n",
    "print(sumNumber)\n",
    "elapsed_time = end_time - start_time \n",
    "print(elapsed_time)"
   ]
  },
  {
   "cell_type": "code",
   "execution_count": 15,
   "metadata": {},
   "outputs": [
    {
     "name": "stdout",
     "output_type": "stream",
     "text": [
      "5859868.622174356\n",
      "0.4604828357696533\n"
     ]
    }
   ],
   "source": [
    "# Compensated Summation Algorithm for 10^6\n",
    "import math;\n",
    "import time;\n",
    "\n",
    "sum_pi = 0;\n",
    "sum_e = 0;\n",
    "\n",
    "start_time = time.time()\n",
    "for i in range(10**6):\n",
    "    va1 = sum_pi\n",
    "    va2 = math.pi + math.e + sum_e\n",
    "    sum_pi = va1 + sum_e\n",
    "    sum_e  = (va1- sum_pi) + va2\n",
    "    \n",
    "    \n",
    "end_time = time.time()\n",
    "print(sum_pi)\n",
    "elapsed_time = end_time - start_time \n",
    "print(elapsed_time)"
   ]
  },
  {
   "cell_type": "code",
   "execution_count": 16,
   "metadata": {},
   "outputs": [
    {
     "name": "stdout",
     "output_type": "stream",
     "text": [
      "58598738.9606139\n",
      "4.9466869831085205\n"
     ]
    }
   ],
   "source": [
    "# Compensated Summation Algorithm for 10^7\n",
    "import math;\n",
    "import time;\n",
    "\n",
    "sum_pi = 0;\n",
    "sum_e = 0;\n",
    "\n",
    "start_time = time.time()\n",
    "for i in range(10**7):\n",
    "    va1 = sum_pi\n",
    "    va2 = math.pi + math.e + sum_e\n",
    "    sum_pi = va1 + sum_e\n",
    "    sum_e  = (va1- sum_pi) + va2\n",
    "    \n",
    "    \n",
    "end_time = time.time()\n",
    "print(sum_pi)\n",
    "elapsed_time = end_time - start_time \n",
    "print(elapsed_time)"
   ]
  },
  {
   "cell_type": "code",
   "execution_count": 17,
   "metadata": {},
   "outputs": [
    {
     "name": "stdout",
     "output_type": "stream",
     "text": [
      "585987442.3450093\n",
      "46.304885149002075\n"
     ]
    }
   ],
   "source": [
    "# Compensated Summation Algorithm for 10^8\n",
    "import math;\n",
    "import time;\n",
    "\n",
    "sum_pi = 0;\n",
    "sum_e = 0;\n",
    "\n",
    "start_time = time.time()\n",
    "for i in range(10**8):\n",
    "    va1 = sum_pi\n",
    "    va2 = math.pi + math.e + sum_e\n",
    "    sum_pi = va1 + sum_e\n",
    "    sum_e  = (va1- sum_pi) + va2\n",
    "    \n",
    "    \n",
    "end_time = time.time()\n",
    "print(sum_pi)\n",
    "elapsed_time = end_time - start_time \n",
    "print(elapsed_time)"
   ]
  },
  {
   "cell_type": "code",
   "execution_count": 18,
   "metadata": {},
   "outputs": [
    {
     "name": "stdout",
     "output_type": "stream",
     "text": [
      "5859874476.188963\n",
      "438.34040689468384\n"
     ]
    }
   ],
   "source": [
    "# Compensated Summation Algorithm for 10^9\n",
    "import math;\n",
    "import time;\n",
    "\n",
    "sum_pi = 0;\n",
    "sum_e = 0;\n",
    "\n",
    "start_time = time.time()\n",
    "for i in range(10**9):\n",
    "    va1 = sum_pi\n",
    "    va2 = math.pi + math.e + sum_e\n",
    "    sum_pi = va1 + sum_e\n",
    "    sum_e  = (va1- sum_pi) + va2\n",
    "    \n",
    "    \n",
    "end_time = time.time()\n",
    "print(sum_pi)\n",
    "elapsed_time = end_time - start_time \n",
    "print(elapsed_time)"
   ]
  },
  {
   "cell_type": "code",
   "execution_count": 22,
   "metadata": {},
   "outputs": [
    {
     "name": "stdout",
     "output_type": "stream",
     "text": [
      "5859874.4820488375\n",
      "5.793571472167969e-05\n"
     ]
    }
   ],
   "source": [
    "#  Calculate Exact value for 10^6\n",
    "import math;\n",
    "import time;\n",
    "start_time = time.time()\n",
    "s_sum = (10**6 * math.pi) + (10**6 * math.e)\n",
    "end_time = time.time()\n",
    "print(s_sum)\n",
    "elapsed_time = end_time - start_time \n",
    "print(elapsed_time)"
   ]
  },
  {
   "cell_type": "code",
   "execution_count": 23,
   "metadata": {},
   "outputs": [
    {
     "name": "stdout",
     "output_type": "stream",
     "text": [
      "58598744.82048838\n",
      "6.389617919921875e-05\n"
     ]
    }
   ],
   "source": [
    "# Calculate Exact value for 10^7\n",
    "import math;\n",
    "import time;\n",
    "start_time = time.time()\n",
    "s_sum = (10**7 * math.pi) + (10**7 * math.e)\n",
    "end_time = time.time()\n",
    "print(s_sum)\n",
    "elapsed_time = end_time - start_time \n",
    "print(elapsed_time)"
   ]
  },
  {
   "cell_type": "code",
   "execution_count": 24,
   "metadata": {},
   "outputs": [
    {
     "name": "stdout",
     "output_type": "stream",
     "text": [
      "585987448.2048838\n",
      "6.198883056640625e-05\n"
     ]
    }
   ],
   "source": [
    "# Calculate Exact value for 10^8\n",
    "import math;\n",
    "import time;\n",
    "start_time = time.time()\n",
    "s_sum = (10**8 * math.pi) + (10**8 * math.e)\n",
    "end_time = time.time()\n",
    "print(s_sum)\n",
    "elapsed_time = end_time - start_time \n",
    "print(elapsed_time)"
   ]
  },
  {
   "cell_type": "code",
   "execution_count": 25,
   "metadata": {},
   "outputs": [
    {
     "name": "stdout",
     "output_type": "stream",
     "text": [
      "5859874482.048838\n",
      "0.00010395050048828125\n"
     ]
    }
   ],
   "source": [
    "# Calculate Exact value for 10^9\n",
    "import math;\n",
    "import time;\n",
    "start_time = time.time()\n",
    "s_sum = (10**9 * math.pi) + (10**9 * math.e)\n",
    "end_time = time.time()\n",
    "print(s_sum)\n",
    "elapsed_time = end_time - start_time \n",
    "print(elapsed_time)"
   ]
  },
  {
   "cell_type": "code",
   "execution_count": null,
   "metadata": {},
   "outputs": [],
   "source": [
    "# Calculate Absolute Error and Relative errorsfor \n",
    "\n"
   ]
  }
 ],
 "metadata": {
  "kernelspec": {
   "display_name": "Python 3",
   "language": "python",
   "name": "python3"
  },
  "language_info": {
   "codemirror_mode": {
    "name": "ipython",
    "version": 3
   },
   "file_extension": ".py",
   "mimetype": "text/x-python",
   "name": "python",
   "nbconvert_exporter": "python",
   "pygments_lexer": "ipython3",
   "version": "3.6.5"
  }
 },
 "nbformat": 4,
 "nbformat_minor": 2
}
