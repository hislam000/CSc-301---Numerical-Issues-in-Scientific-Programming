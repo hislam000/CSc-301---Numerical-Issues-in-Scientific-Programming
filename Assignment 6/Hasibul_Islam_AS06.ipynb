{
 "cells": [
  {
   "cell_type": "code",
   "execution_count": 185,
   "metadata": {},
   "outputs": [],
   "source": [
    "# CSC-301\n",
    "# Due: 9am - 12/06/2018\n",
    "# Hasibul Islam\n"
   ]
  },
  {
   "cell_type": "code",
   "execution_count": 186,
   "metadata": {},
   "outputs": [],
   "source": [
    "from math import pi, sqrt, sin\n",
    "from numpy import mean, std\n",
    "import statistics"
   ]
  },
  {
   "cell_type": "code",
   "execution_count": 187,
   "metadata": {},
   "outputs": [],
   "source": [
    "# Calculate: Verlet's algorithm\n",
    "# Pendulum is released from angle \n",
    "def verlet_function(rele, upgra):\n",
    "    theta=-pi/4\n",
    "    initVel=0 # initial velocity\n",
    "    g=32.17  # feet/second^square\n",
    "    L=1.00 # feet\n",
    "    # At time t = 0\n",
    "    # initial time\n",
    "    t=0 \n",
    "    r=0 # reversals\n",
    "    accVel= -(g/L)*sin(theta) #acceleration of velocity \n",
    "    t1=theta-initVel*rele+0.5*(rele**2)*accVel \n",
    "    periodVel=[1]*175 \n",
    "    timeVel=0 \n",
    "    for i in range(upgra):\n",
    "        t=((t+rele)*100)/100\n",
    "        accVel=-(g/L)*sin(theta) \n",
    "        theta2=2*theta-t1+(rele**2)*accVel\n",
    "        t1=theta \n",
    "        theta=theta2\n",
    "        if (theta*t1<0):\n",
    "            if (r==0):\n",
    "                periodVel[r]=2*(t-timeVel)\n",
    "                timeVel=t\n",
    "            else :\n",
    "                timeVel= t;\n",
    "                r=r+1\n",
    "                p=mean(periodVel)\n",
    "                err=std(periodVel)/sqrt(r)\n",
    "                period=(p+err)\n",
    "    return period"
   ]
  },
  {
   "cell_type": "code",
   "execution_count": 188,
   "metadata": {},
   "outputs": [
    {
     "name": "stdout",
     "output_type": "stream",
     "text": [
      "Verlet's algorithm: dt= 0.1 and 100000\n",
      "Using Verlet's algorithm, calculate as the period of this pendulum as accurately as you can\n",
      "\n",
      "Exact_Val: 1.107782086096057\n"
     ]
    }
   ],
   "source": [
    "# Observe\n",
    "print(\"Verlet's algorithm: dt= 0.1 and 100000\\nUsing Verlet's algorithm, calculate as the period of this pendulum as accurately as you can\")\n",
    "g= 32.17 # feet/second^square\n",
    "L= 1.00 # feet\n",
    "p=  2 * pi * sqrt(L/g)\n",
    "print(\"\\nExact_Val:\",p)"
   ]
  },
  {
   "cell_type": "code",
   "execution_count": 189,
   "metadata": {},
   "outputs": [
    {
     "name": "stdout",
     "output_type": "stream",
     "text": [
      "Verlet's algorithm: dt= 0.1 and 1000\n",
      "Using Verlet's algorithm, calculate as the period of this pendulum as accurately as you can\n",
      "\n",
      "Verlet Algorith: 1.0\n",
      "Absolute_Err: 0.107782086096057\n",
      "Relative_Err: 0.097295386384061\n"
     ]
    }
   ],
   "source": [
    "print(\"Verlet's algorithm: dt= 0.1 and 1000\\nUsing Verlet's algorithm, calculate as the period of this pendulum as accurately as you can\")\n",
    "print(\"\\nVerlet Algorith:\",ver_per)\n",
    "ver_per= verlet(0.1, 1000)\n",
    "print(\"Absolute_Err:\",absolute_er)\n",
    "absolute_er= abs(ver_per - p)\n",
    "print(\"Relative_Err:\",relative_er)\n",
    "relative_er= absolute_er/ p"
   ]
  },
  {
   "cell_type": "code",
   "execution_count": 190,
   "metadata": {},
   "outputs": [
    {
     "name": "stdout",
     "output_type": "stream",
     "text": [
      "Verlet's algorithm: dt= 0.01 and 1000\n",
      "Using Verlet's algorithm, calculate as the period of this pendulum as accurately as you can\n",
      "\n",
      "Verlet Algorith: 0.9999869758809586\n",
      "Absolute_Err: 0.10779511021509836\n",
      "Relative_Err: 0.09730714331640793\n"
     ]
    }
   ],
   "source": [
    "print(\"Verlet's algorithm: dt= 0.01 and 1000\\nUsing Verlet's algorithm, calculate as the period of this pendulum as accurately as you can\")\n",
    "print(\"\\nVerlet Algorith:\",ver_per)\n",
    "ver_per= verlet(0.01, 1000)\n",
    "print(\"Absolute_Err:\",absolute_er)\n",
    "absolute_er= abs(ver_per - p)\n",
    "print(\"Relative_Err:\",relative_er)\n",
    "relative_er= absolute_er/ p"
   ]
  },
  {
   "cell_type": "code",
   "execution_count": 191,
   "metadata": {},
   "outputs": [
    {
     "name": "stdout",
     "output_type": "stream",
     "text": [
      "Verlet's algorithm: dt= 0.001 and 1000\n",
      "Using Verlet's algorithm, calculate as the period of this pendulum as accurately as you can\n",
      "\n",
      "Verlet Algorith: 1.0052782350913245\n",
      "Absolute_Err: 0.10250385100473247\n",
      "Relative_Err: 0.09253069921537281\n"
     ]
    }
   ],
   "source": [
    "print(\"Verlet's algorithm: dt= 0.001 and 1000\\nUsing Verlet's algorithm, calculate as the period of this pendulum as accurately as you can\")\n",
    "print(\"\\nVerlet Algorith:\",ver_per)\n",
    "ver_per= verlet(0.001, 1000)\n",
    "print(\"Absolute_Err:\",absolute_er)\n",
    "absolute_er= abs(ver_per - p)\n",
    "print(\"Relative_Err:\",relative_er)\n",
    "relative_er= absolute_er/ p"
   ]
  },
  {
   "cell_type": "code",
   "execution_count": 192,
   "metadata": {},
   "outputs": [
    {
     "name": "stdout",
     "output_type": "stream",
     "text": [
      "Verlet's algorithm: dt= 0.1 and 100000\n",
      "Using Verlet's algorithm, calculate as the period of this pendulum as accurately as you can\n",
      "\n",
      "Verlet Algorith: 1.0200808797737342\n",
      "Absolute_Err: 0.08770120632232281\n",
      "Relative_err: 0.07916828356684416\n"
     ]
    }
   ],
   "source": [
    "print(\"Verlet's algorithm: dt= 0.1 and 100000\\nUsing Verlet's algorithm, calculate as the period of this pendulum as accurately as you can\")\n",
    "print(\"\\nVerlet Algorith:\",ver_per)\n",
    "ver_per= verlet(0.1, 100000)\n",
    "print(\"Absolute_Err:\",absolute_er)\n",
    "absolute_er= abs(ver_per - p)\n",
    "print(\"Relative_err:\",relative_er)\n",
    "relative_er= absolute_er/ p"
   ]
  },
  {
   "cell_type": "code",
   "execution_count": 193,
   "metadata": {},
   "outputs": [
    {
     "name": "stdout",
     "output_type": "stream",
     "text": [
      "Verlet's algorithm: dt= 0.01 and 100000\n",
      "Using Verlet's algorithm, calculate as the period of this pendulum as accurately as you can\n",
      "\n",
      "Verlet Algorith: 0.9979416710372836\n",
      "Absolute_err: 0.1098404150587734\n",
      "Relative_err: 0.09915344943504441\n"
     ]
    }
   ],
   "source": [
    "print(\"Verlet's algorithm: dt= 0.01 and 100000\\nUsing Verlet's algorithm, calculate as the period of this pendulum as accurately as you can\")\n",
    "print(\"\\nVerlet Algorith:\",ver_per)\n",
    "ver_per= verlet(0.01, 100000)\n",
    "print(\"Absolute_err:\",absolute_er)\n",
    "absolute_er= abs(ver_per - p)\n",
    "print(\"Relative_err:\",relative_er)\n",
    "relative_er= absolute_er/ p"
   ]
  },
  {
   "cell_type": "code",
   "execution_count": 194,
   "metadata": {},
   "outputs": [
    {
     "name": "stdout",
     "output_type": "stream",
     "text": [
      "Verlet's algorithm: dt= 0.001 and 100000\n",
      "Using Verlet's algorithm, calculate as the period of this pendulum as accurately as you can\n",
      "\n",
      "Verlet Algorith: 0.9983598204978414\n",
      "Absolute_err: 0.10942226559821555\n",
      "Relative_err: 0.09877598398781783\n"
     ]
    }
   ],
   "source": [
    "print(\"Verlet's algorithm: dt= 0.001 and 100000\\nUsing Verlet's algorithm, calculate as the period of this pendulum as accurately as you can\")\n",
    "print(\"\\nVerlet Algorith:\", ver_per)\n",
    "ver_per= verlet(0.001, 100000)\n",
    "print(\"Absolute_err:\",absolute_er)\n",
    "absolute_er= abs(ver_per - p)\n",
    "print(\"Relative_err:\",relative_er)\n",
    "relative_er= absolute_er/ p"
   ]
  },
  {
   "cell_type": "code",
   "execution_count": null,
   "metadata": {},
   "outputs": [],
   "source": []
  }
 ],
 "metadata": {
  "kernelspec": {
   "display_name": "Python 3",
   "language": "python",
   "name": "python3"
  },
  "language_info": {
   "codemirror_mode": {
    "name": "ipython",
    "version": 3
   },
   "file_extension": ".py",
   "mimetype": "text/x-python",
   "name": "python",
   "nbconvert_exporter": "python",
   "pygments_lexer": "ipython3",
   "version": "3.6.5"
  }
 },
 "nbformat": 4,
 "nbformat_minor": 2
}
