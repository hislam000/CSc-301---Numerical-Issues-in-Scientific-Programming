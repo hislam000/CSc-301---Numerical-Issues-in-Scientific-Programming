{
 "cells": [
  {
   "cell_type": "code",
   "execution_count": 247,
   "metadata": {},
   "outputs": [],
   "source": [
    "# CSC-301\n",
    "# Due: 9am - 11/06/2018\n",
    "# Hasibul Islam"
   ]
  },
  {
   "cell_type": "code",
   "execution_count": 248,
   "metadata": {},
   "outputs": [],
   "source": [
    "import math\n",
    "from math import sin, cos"
   ]
  },
  {
   "cell_type": "code",
   "execution_count": 249,
   "metadata": {},
   "outputs": [
    {
     "name": "stdout",
     "output_type": "stream",
     "text": [
      "Calculate_Val: 0.8068453602226698\n",
      "Integral_Val: 0.8068418999813599\n",
      "Error_Value: 3.46024130992717e-06\n",
      "Error_Value: 4.2886053270136265e-06\n"
     ]
    }
   ],
   "source": [
    "#Simpson_Rule: Sin(x)\n",
    "def S (x, y):\n",
    "    user0= x;       user2= y;\n",
    "    sets= (y-x)/2;  user1= x + sets;\n",
    "    fx= ((sets/3)*(sin(user0)+4*sin(user1)+sin(user2)))-(((sets**5)/90)*(sin(user2-user0)))\n",
    "    return fx\n",
    "#Calculate of the value \n",
    "print(\"Calculate_Val:\",Ex);   Ex= -cos(1.5)- -cos(0.5)\n",
    "print(\"Integral_Val:\",func);  func = S(0.5,1.5)\n",
    "#Absolute_Errors and Relative_Errors\n",
    "print(\"Error_Value:\",Ab);  Ab= abs(func - Ex)\n",
    "print(\"Error_Value:\",Re);  Re= abs(Ab)/abs(Ex)\n"
   ]
  },
  {
   "cell_type": "code",
   "execution_count": 251,
   "metadata": {},
   "outputs": [
    {
     "name": "stdout",
     "output_type": "stream",
     "text": [
      "Calculate_Val: 0.8068453602226698\n",
      "Integral_Val: 0.8085828446714535\n",
      "Error_Value: 0.0017374844487836327\n",
      "Error_Value: 0.002153429311787985\n"
     ]
    }
   ],
   "source": [
    "#Trapezoidal_Rule: sin(x)\n",
    "def T (x,y):\n",
    "    fx =((1/2)*(sin(x)+sin(y)))-(((1**3)/12)*(-sin(y-x)))\n",
    "    return fx\n",
    "#Calculate of the value \n",
    "print(\"Calculate_Val:\",Ex);   Ex= -cos(1.5)- -cos(0.5)\n",
    "print(\"Integral_Val:\",func);  func = T (0.5,1.5)\n",
    "#Absolute_Errors and Relative_Errors\n",
    "print(\"Error_Value:\",Ab); Ab= abs(func - Ex)\n",
    "print(\"Error_Value:\",Re); Re= abs(Ab)/abs(Ex)\n"
   ]
  },
  {
   "cell_type": "code",
   "execution_count": 253,
   "metadata": {},
   "outputs": [
    {
     "name": "stdout",
     "output_type": "stream",
     "text": [
      "Calculate_Val: 0.8068453602226698\n",
      "Integral_Val: 0.8068418999813599\n",
      "Error_Value: 3.46024130992717e-06\n",
      "Error_Value: 4.2886053270136265e-06\n"
     ]
    }
   ],
   "source": [
    "#Newton-Cotes: 0 \n",
    "def N (x,y,z):\n",
    "    sets=(y-x)/(z+2)\n",
    "    user0=1.0; user1=1.49\n",
    "    fx = 2*sets *sin(user0)+((sets**3)/3)*(-sin(y-x))\n",
    "    return fx\n",
    "#Calculate of the value \n",
    "print(\"Calculate_Val:\",Ex);   Ex= -cos(1.5)- -cos(0.5)\n",
    "print(\"Integral_Val:\",func);  func = S(0.5,1.5)\n",
    "#Absolute_Errors and Relative_Errors\n",
    "print(\"Error_Value:\",Ab);  Ab= abs(func - Ex)\n",
    "print(\"Error_Value:\",Re);  Re= abs(Ab)/abs(Ex)"
   ]
  },
  {
   "cell_type": "code",
   "execution_count": 255,
   "metadata": {},
   "outputs": [
    {
     "name": "stdout",
     "output_type": "stream",
     "text": [
      "Calculate_Val: 0.8068453602226698\n",
      "Integral_Val: 0.8068433961862461\n",
      "Error_Value: 1.9640364237183405e-06\n",
      "Error_Value: 2.434216667214042e-06\n"
     ]
    }
   ],
   "source": [
    "#Simpson_RulE:3-eights \n",
    "def S (x,y):\n",
    "    user0=x;        sets= (y - x)/3\n",
    "    user1=x + sets; user2=user1 + sets; user3=y\n",
    "    fx=((3*sets/8)*(sin(user0)+3*sin(user1)+3*sin(user2)+sin(user3)))-(((3*sets**5)/80)*(sin(user3-user0)))\n",
    "    return fx\n",
    "#Calculate of the value \n",
    "print(\"Calculate_Val:\", Ex);    Ex= -cos(1.5)- -cos(0.5)\n",
    "print(\"Integral_Val:\",func);  func = S (0.5,1.5)\n",
    "#Absolute_Errors and Relative_Errors\n",
    "print(\"Error_Value:\",Ab); Ab= abs(func - Ex)\n",
    "print(\"Error_Value:\",Re); Re= abs(Ab)/abs(Ex)\n"
   ]
  },
  {
   "cell_type": "code",
   "execution_count": 257,
   "metadata": {},
   "outputs": [
    {
     "name": "stdout",
     "output_type": "stream",
     "text": [
      "Calculate_Val: 0.8068453602226698\n",
      "Integral_Val: 0.8240934946348243\n",
      "Error_Value: 0.017248134412154448\n",
      "Error_Value: 0.021377249300156328\n"
     ]
    }
   ],
   "source": [
    "#Newton-Cotes: 4\n",
    "def N (x,y):\n",
    "    user0=x;      sets= (y - x)/4\n",
    "    user1=x + sets; user2=user1 + sets; user3=y; user4=y\n",
    "    fx= ((2*sets/45)*(7*sin(user0)+32*sin(user1)+12*sin(user2)+32*sin(user3)+7*sin(user4)))-(((8*sets**7)/945)*(-sin(user4-user0)))\n",
    "    return fx\n",
    "#Calculate of the value \n",
    "print(\"Calculate_Val:\", Ex);    Ex= -cos(1.5)- -cos(0.5)\n",
    "print(\"Integral_Val:\",func);  func = N (0.5,1.5)\n",
    "#Absolute_Errors and Relative_Errors\n",
    "print(\"Error_Value:\",Ab); Ab= abs(func - Ex)\n",
    "print(\"Error_Value:\",Re); Re= abs(Ab)/abs(Ex)"
   ]
  },
  {
   "cell_type": "code",
   "execution_count": 259,
   "metadata": {},
   "outputs": [
    {
     "name": "stdout",
     "output_type": "stream",
     "text": [
      "Calculate_Val: 0.8068453602226698\n",
      "Integral_Val: 0.80671236183495\n",
      "Error_Value: 0.0001329983877198515\n",
      "Error_Value: 0.00016483751940166969\n"
     ]
    }
   ],
   "source": [
    "#Composite: Simpson & Trapezoidal  for sin(x)\n",
    "def C (x,y,z):\n",
    "    sets= (y-x)/z; \n",
    "    user0= sin(x) + sin(y)\n",
    "    user1=0; user2=0\n",
    "    \n",
    "    for i in range(1, z-1):\n",
    "        var= x+i*sets\n",
    "        if i%2 == 0:\n",
    "            user2= user2+sin(var)\n",
    "        else:\n",
    "            user1= user1+sin(var)\n",
    "    fx=(sets*(user0+(2*user2)+(4*user1)))/3\n",
    "    return fx\n",
    "#Calculate of the value   \n",
    "print(\"Calculate_Val:\",Ex);    Ex= -cos(1.5)- -cos(0.5)\n",
    "print(\"Integral_Val:\",func); func = C (0.5, 1.5, 10000)\n",
    "#Absolute_Errors and Relative_Errors\n",
    "print(\"Error_Value:\",Ab); Ab= abs(func - Ex)\n",
    "print(\"Error_Value:\",Re); Re= abs(Ab)/abs(Ex)"
   ]
  },
  {
   "cell_type": "code",
   "execution_count": null,
   "metadata": {},
   "outputs": [],
   "source": []
  }
 ],
 "metadata": {
  "kernelspec": {
   "display_name": "Python 3",
   "language": "python",
   "name": "python3"
  },
  "language_info": {
   "codemirror_mode": {
    "name": "ipython",
    "version": 3
   },
   "file_extension": ".py",
   "mimetype": "text/x-python",
   "name": "python",
   "nbconvert_exporter": "python",
   "pygments_lexer": "ipython3",
   "version": "3.6.5"
  }
 },
 "nbformat": 4,
 "nbformat_minor": 2
}
