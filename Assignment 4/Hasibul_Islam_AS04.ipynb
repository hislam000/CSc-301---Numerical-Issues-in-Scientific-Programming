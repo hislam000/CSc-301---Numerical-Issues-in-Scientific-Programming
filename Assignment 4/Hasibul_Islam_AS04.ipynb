{
 "cells": [
  {
   "cell_type": "code",
   "execution_count": 182,
   "metadata": {},
   "outputs": [],
   "source": [
    "# CSC-301\n",
    "# Due: 9am - 10/23/2018\n",
    "# Hasibul Islam"
   ]
  },
  {
   "cell_type": "code",
   "execution_count": 183,
   "metadata": {},
   "outputs": [],
   "source": [
    "import math;\n",
    "from math import sin, cos\n"
   ]
  },
  {
   "cell_type": "code",
   "execution_count": 224,
   "metadata": {},
   "outputs": [
    {
     "name": "stdout",
     "output_type": "stream",
     "text": [
      "\t St \t\tFt\n",
      "0.8414709848078965 \t 0.8572074116321386 \t\t 0.8414709848078965\n",
      "-------------------------------------------------------------------------\n",
      "Stirling: 0.8572074116321386 \n",
      "Exact value: 0.8414709848078965\n",
      "Absolute_Error: 0.015736426824242145 \n",
      "Relative_Error: 0.018701092620364908\n",
      "-------------------------------------------------------------------------\n"
     ]
    }
   ],
   "source": [
    "# 1st Methods\n",
    "# Using as many different methods as you reasonably can calculate the values of sin(x)\n",
    "# Stirling\n",
    "\n",
    "Num = 1 \n",
    "def stirling(n):\n",
    "    return math.sqrt(2*math.pi*n)*(n/math.e)**n\n",
    "print(\"\\t\",\"St\",\"\\t\\tFt\")\n",
    "v = sin(1)\n",
    "Num *= v\n",
    "s_value = stirling(v)\n",
    "print(v,\"\\t\",s_value,\"\\t\\t\", Num)\n",
    "print(\"-------------------------------------------------------------------------\")\n",
    "print(\"Stirling:\", s_value,\"\\nExact value:\", sin(1))\n",
    "absolute_v = (s_value - sin(1)) \n",
    "print(\"Absolute_Error:\", absolute_v,\"\\nRelative_Error:\", relative_v)\n",
    "relative_v = absolute_v / sin(1)\n",
    "print(\"-------------------------------------------------------------------------\")\n"
   ]
  },
  {
   "cell_type": "code",
   "execution_count": 222,
   "metadata": {},
   "outputs": [
    {
     "name": "stdout",
     "output_type": "stream",
     "text": [
      "-------------------------------------------------------------------------\n",
      "Newton: 0.8408320416370398 \n",
      "Exact_value: 0.8414709848078965\n",
      "Absolute_Error: 0.015736426824242145 \n",
      "Relative_Error: 0.018701092620364908\n",
      "-------------------------------------------------------------------------\n"
     ]
    }
   ],
   "source": [
    "# 2nd Methods\n",
    "# Newton_Formula\n",
    "\n",
    "def coefficient(x_data, y_data):\n",
    "    \n",
    "    n = len(x_data)\n",
    "    array = []\n",
    "    for i in range(n):\n",
    "        array.append(y_data[i])\n",
    "\n",
    "    for j in range(1, n):\n",
    "\n",
    "        for i in range(n-1, j-1, -1):\n",
    "            array[i] = float(array[i]-array[i-1])/float(x_data[i]-x_data[i-j])\n",
    "\n",
    "    return np.array(array) # return an array of coefficient\n",
    "\n",
    "def Newton_Formula(array, x_data, r):\n",
    "    n = len( array ) - 1\n",
    "    temp = array[n]\n",
    "    for i in range( n - 1, -1, -1 ):\n",
    "        temp = temp * ( r - x_data[i] ) + array[i]\n",
    "    return temp # return the y_value interpolation\n",
    "\n",
    "x_Num= [0.5, 0.8, 1.3, 1.6] # this point are our predicted points\n",
    "y_Num = [sin(0.5), sin(0.8), sin(1.3), sin(1.6)]\n",
    "count = coefficient(x_Num,y_Num)\n",
    "\n",
    "newton = Newton_Formula(count,x_Num, 1)\n",
    "print(\"-------------------------------------------------------------------------\")\n",
    "print(\"Newton:\", newton,\"\\nExact_value:\", sin(1))\n",
    "# absolute & relative Value \n",
    "absolute_value_newton = (newton - sin(1)) \n",
    "print(\"Absolute_Error:\", absolute_v,\"\\nRelative_Error:\",relative_v)\n",
    "relative_value_newton = absolute_value_newton / sin(1)\n",
    "print(\"-------------------------------------------------------------------------\")"
   ]
  },
  {
   "cell_type": "code",
   "execution_count": 225,
   "metadata": {},
   "outputs": [
    {
     "name": "stdout",
     "output_type": "stream",
     "text": [
      "-------------------------------------------------------------------------\n",
      "Estimation: 0.8372671348444594\n",
      "Exact_value: 0.8414709848078965\n",
      "Absolute_Error: 0.004203849963437145 \n",
      "Relative_Error: 0.004995834721974237\n",
      "-------------------------------------------------------------------------\n"
     ]
    }
   ],
   "source": [
    "# 3rd Methods\n",
    "# Lagrange's sin(x)\n",
    "def lagrange(x,y,z):\n",
    "    return ((z-y)/(x-y))* sin(x)+((z-x)/(y-x))*sin(y)\n",
    "print(\"-------------------------------------------------------------------------\")\n",
    "print(\"Estimation:\", lagrange(0.9,1.1,1))\n",
    "print(\"Exact_value:\", sin(1))\n",
    "aer= abs(sin(1)-lagrange(0.9,1.1,1))\n",
    "print(\"Absolute_Error:\",aer,\"\\nRelative_Error:\", aer/abs(sin(1)))\n",
    "print(\"-------------------------------------------------------------------------\")"
   ]
  },
  {
   "cell_type": "code",
   "execution_count": 231,
   "metadata": {},
   "outputs": [
    {
     "name": "stdout",
     "output_type": "stream",
     "text": [
      "Neville: -0.6306710525534095\n",
      "-------------------------------------------------------------------------\n",
      "Exact_Value:  0.8414709848078965\n",
      "Absolute 1.4721420373613059\n",
      "Relative: 1.749486392210408\n",
      "Closed_value: 0.8840857482695619\n",
      "Absolute_Error 0.04261476346166537 \n",
      "Relative_Error: 0.050643176331735436\n",
      "-------------------------------------------------------------------------\n"
     ]
    }
   ],
   "source": [
    "# 4th Methods\n",
    "# Neville's Method Sin(x)\n",
    "\n",
    "def neville(a,b,c,z):\n",
    "    p01 = (((z-b) * sin(a)) + ((z-a) * sin(b)))/(b - a)\n",
    "    p12 = (((z-c) * sin(b)) + ((z-b) * sin(c)))/(c - b)\n",
    "    p012 = (((z-c) * p01) + ((z-b) * p12))/(c - a)\n",
    "    return p012\n",
    "\n",
    "print(\"Neville:\", neville(0.6,0.8,1.2,1))\n",
    "print(\"-------------------------------------------------------------------------\")\n",
    "print(\"Exact_Value: \",sin(1))\n",
    "count= abs(sin(1)-neville(0.6,0.8,1.2,1))\n",
    "print(\"Absolute\",count)\n",
    "print(\"Relative:\", count/abs(sin(1)))\n",
    "print(\"Closed_value:\",neville(0.1,0.45,0.9,1))\n",
    "count= abs(sin(1)-neville(0.1,0.45,0.9,1))\n",
    "print(\"Absolute_Error\", count,\"\\nRelative_Error:\", count/abs(sin(1)))\n",
    "print(\"-------------------------------------------------------------------------\")"
   ]
  },
  {
   "cell_type": "code",
   "execution_count": 229,
   "metadata": {},
   "outputs": [
    {
     "name": "stdout",
     "output_type": "stream",
     "text": [
      "-------------------------------------------------------------------------\n",
      "Backward: 0.5409931024280973 \n",
      "Exact_Value: 0.5403023058681398\n",
      "Absolute_Error 0.0006907965599575183 \n",
      "Relative_Error: 0.0012785371308892887\n",
      "-------------------------------------------------------------------------\n"
     ]
    }
   ],
   "source": [
    "# 5th Methods\n",
    "# Backward difference formula diff(sin(x))\n",
    "Num = -0.001\n",
    "sine = (sin(1 + Num) - sin(1)) / Num\n",
    "error = abs(Num * cos(1)) / 2\n",
    "result = sine + error\n",
    "print(\"-------------------------------------------------------------------------\")\n",
    "print(\"Backward:\", result,\"\\nExact_Value:\",cos(1))\n",
    "count= abs(cos(1)-result)\n",
    "print(\"Absolute_Error\",count, \"\\nRelative_Error:\",count/abs(cos(1)))\n",
    "print(\"-------------------------------------------------------------------------\")"
   ]
  },
  {
   "cell_type": "code",
   "execution_count": 228,
   "metadata": {},
   "outputs": [
    {
     "name": "stdout",
     "output_type": "stream",
     "text": [
      "-------------------------------------------------------------------------\n",
      "Three-Point: 0.5403024857586061 \n",
      "Exact_Value 0.5403023058681398\n",
      "Absolute_Error 1.7989046630084715e-07 \n",
      "Relative_Error 3.329441024905588e-07\n",
      "-------------------------------------------------------------------------\n"
     ]
    }
   ],
   "source": [
    "# 6th Methods\n",
    "# Three & Five endpoint formula diff(sin(x))...5 are output will come similar\n",
    " \n",
    "Num = 0.001\n",
    "error = (Num ** 2) * abs(Num ** 2 * -cos(1)) \n",
    "result = (1/(2*Num))*(-3*sin(1)+4*sin(1+Num)-sin(1+2*Num))+ (error/3)\n",
    "print(\"-------------------------------------------------------------------------\")\n",
    "print(\"Three-Point:\", result,\"\\nExact_Value\", cos(1))\n",
    "aer= abs(cos(1)-result)\n",
    "print(\"Absolute_Error\", aer,\"\\nRelative_Error\", aer/abs(cos(1)))\n",
    "print(\"-------------------------------------------------------------------------\")"
   ]
  },
  {
   "cell_type": "code",
   "execution_count": null,
   "metadata": {},
   "outputs": [],
   "source": []
  }
 ],
 "metadata": {
  "kernelspec": {
   "display_name": "Python 3",
   "language": "python",
   "name": "python3"
  },
  "language_info": {
   "codemirror_mode": {
    "name": "ipython",
    "version": 3
   },
   "file_extension": ".py",
   "mimetype": "text/x-python",
   "name": "python",
   "nbconvert_exporter": "python",
   "pygments_lexer": "ipython3",
   "version": "3.6.5"
  }
 },
 "nbformat": 4,
 "nbformat_minor": 2
}
